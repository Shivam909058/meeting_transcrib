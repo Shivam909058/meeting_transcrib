{
 "cells": [
  {
   "cell_type": "code",
   "execution_count": 14,
   "metadata": {},
   "outputs": [],
   "source": [
    "import torch\n",
    "from transformers import AutoTokenizer, AutoModelForQuestionAnswering\n",
    "from sklearn.feature_extraction.text import TfidfVectorizer\n",
    "from sklearn.metrics.pairwise import cosine_similarity\n",
    "\n",
    "\n"
   ]
  },
  {
   "cell_type": "code",
   "execution_count": 15,
   "metadata": {},
   "outputs": [],
   "source": [
    "\n",
    "\n",
    "def read_file(file_path):\n",
    "    with open(file_path, 'r', encoding='utf-8') as file:\n",
    "        return file.read()\n",
    "\n",
    "def split_text(text, chunk_size=250):\n",
    "    words = text.split()\n",
    "    return [' '.join(words[i:i+chunk_size]) for i in range(0, len(words), chunk_size)]\n",
    "\n",
    "def create_vector_db(chunks):\n",
    "    vectorizer = TfidfVectorizer()\n",
    "    tfidf_matrix = vectorizer.fit_transform(chunks)\n",
    "    return tfidf_matrix, vectorizer\n",
    "\n",
    "def find_most_relevant_chunk(query, tfidf_matrix, vectorizer):\n",
    "    query_vector = vectorizer.transform([query])\n",
    "    similarities = cosine_similarity(query_vector, tfidf_matrix)\n",
    "    most_similar_idx = similarities.argmax()\n",
    "    return most_similar_idx\n",
    "\n",
    "def answer_question(question, context, model, tokenizer):\n",
    "    inputs = tokenizer.encode_plus(\n",
    "        question, \n",
    "        context, \n",
    "        add_special_tokens=True, \n",
    "        return_tensors=\"pt\",\n",
    "        max_length=512,  # Set maximum length\n",
    "        truncation=True  # Enable truncation\n",
    "    )\n",
    "    \n",
    "    input_ids = inputs[\"input_ids\"].tolist()[0]\n",
    "    outputs = model(**inputs)\n",
    "    answer_start_scores = outputs.start_logits\n",
    "    answer_end_scores = outputs.end_logits\n",
    "    answer_start = torch.argmax(answer_start_scores)\n",
    "    answer_end = torch.argmax(answer_end_scores) + 1\n",
    "    answer = tokenizer.convert_tokens_to_string(tokenizer.convert_ids_to_tokens(input_ids[answer_start:answer_end]))\n",
    "    \n",
    "    return answer\n",
    "\n"
   ]
  },
  {
   "cell_type": "code",
   "execution_count": 16,
   "metadata": {},
   "outputs": [
    {
     "name": "stdout",
     "output_type": "stream",
     "text": [
      "Loading model and tokenizer... This may take a few minutes.\n"
     ]
    },
    {
     "name": "stderr",
     "output_type": "stream",
     "text": [
      "Some weights of the model checkpoint at deepset/bert-base-cased-squad2 were not used when initializing BertForQuestionAnswering: ['bert.pooler.dense.bias', 'bert.pooler.dense.weight']\n",
      "- This IS expected if you are initializing BertForQuestionAnswering from the checkpoint of a model trained on another task or with another architecture (e.g. initializing a BertForSequenceClassification model from a BertForPreTraining model).\n",
      "- This IS NOT expected if you are initializing BertForQuestionAnswering from the checkpoint of a model that you expect to be exactly identical (initializing a BertForSequenceClassification model from a BertForSequenceClassification model).\n"
     ]
    },
    {
     "name": "stdout",
     "output_type": "stream",
     "text": [
      "Model loaded. You can now ask questions.\n",
      "Answer: a functional definition of space\n",
      "\n",
      "Answer: space is large fuel structure of the universe\n",
      "\n",
      "Answer: large hill structure of the universe\n",
      "\n"
     ]
    }
   ],
   "source": [
    "\n",
    "\n",
    "def main():\n",
    "    print(\"Loading model and tokenizer... This may take a few minutes.\")\n",
    "    model_name = \"deepset/bert-base-cased-squad2\"\n",
    "    tokenizer = AutoTokenizer.from_pretrained(model_name)\n",
    "    model = AutoModelForQuestionAnswering.from_pretrained(model_name)\n",
    "\n",
    "    file_path = 'output.txt'\n",
    "    text = read_file(file_path)\n",
    "    chunks = split_text(text)\n",
    "    tfidf_matrix, vectorizer = create_vector_db(chunks)\n",
    "\n",
    "    print(\"Model loaded. You can now ask questions.\")\n",
    "\n",
    "    while True:\n",
    "        query = input(\"Ask a question about the text (or type 'quit' to exit): \")\n",
    "        if query.lower() == 'quit':\n",
    "            break\n",
    "\n",
    "        most_relevant_idx = find_most_relevant_chunk(query, tfidf_matrix, vectorizer)\n",
    "        context = chunks[most_relevant_idx]\n",
    "\n",
    "        answer = answer_question(query, context, model, tokenizer)\n",
    "        print(f\"Answer: {answer}\\n\")\n",
    "\n",
    "if __name__ == \"__main__\":\n",
    "    main()"
   ]
  }
 ],
 "metadata": {
  "kernelspec": {
   "display_name": "Python 3",
   "language": "python",
   "name": "python3"
  },
  "language_info": {
   "codemirror_mode": {
    "name": "ipython",
    "version": 3
   },
   "file_extension": ".py",
   "mimetype": "text/x-python",
   "name": "python",
   "nbconvert_exporter": "python",
   "pygments_lexer": "ipython3",
   "version": "3.12.3"
  }
 },
 "nbformat": 4,
 "nbformat_minor": 2
}
